{
 "cells": [
  {
   "cell_type": "code",
   "execution_count": 1,
   "id": "c28445c8-d080-4b74-9782-cd17cddfa0f6",
   "metadata": {},
   "outputs": [
    {
     "name": "stdout",
     "output_type": "stream",
     "text": [
      "Collecting pysentimiento\n",
      "  Downloading pysentimiento-0.7.3-py3-none-any.whl.metadata (7.7 kB)\n",
      "Collecting accelerate>=0.27.2 (from pysentimiento)\n",
      "  Downloading accelerate-0.34.2-py3-none-any.whl.metadata (19 kB)\n",
      "Collecting datasets>=2.10.1 (from pysentimiento)\n",
      "  Downloading datasets-2.21.0-py3-none-any.whl.metadata (21 kB)\n",
      "Collecting emoji>=1.6.1 (from pysentimiento)\n",
      "  Downloading emoji-2.12.1-py3-none-any.whl.metadata (5.4 kB)\n",
      "Collecting spacy>=3.5.0 (from pysentimiento)\n",
      "  Downloading spacy-3.7.6-cp312-cp312-win_amd64.whl.metadata (27 kB)\n",
      "Requirement already satisfied: torch!=2.0.1,>=2.0.0 in c:\\users\\hp\\appdata\\local\\programs\\python\\python312\\lib\\site-packages (from pysentimiento) (2.4.1)\n",
      "Requirement already satisfied: transformers>=4.13.0 in c:\\users\\hp\\appdata\\local\\programs\\python\\python312\\lib\\site-packages (from pysentimiento) (4.44.2)\n",
      "Requirement already satisfied: numpy<3.0.0,>=1.17 in c:\\users\\hp\\appdata\\local\\programs\\python\\python312\\lib\\site-packages (from accelerate>=0.27.2->pysentimiento) (1.26.4)\n",
      "Requirement already satisfied: packaging>=20.0 in c:\\users\\hp\\appdata\\local\\programs\\python\\python312\\lib\\site-packages (from accelerate>=0.27.2->pysentimiento) (24.0)\n",
      "Requirement already satisfied: psutil in c:\\users\\hp\\appdata\\local\\programs\\python\\python312\\lib\\site-packages (from accelerate>=0.27.2->pysentimiento) (5.9.8)\n",
      "Requirement already satisfied: pyyaml in c:\\users\\hp\\appdata\\local\\programs\\python\\python312\\lib\\site-packages (from accelerate>=0.27.2->pysentimiento) (6.0.1)\n",
      "Requirement already satisfied: huggingface-hub>=0.21.0 in c:\\users\\hp\\appdata\\local\\programs\\python\\python312\\lib\\site-packages (from accelerate>=0.27.2->pysentimiento) (0.24.6)\n",
      "Requirement already satisfied: safetensors>=0.4.3 in c:\\users\\hp\\appdata\\local\\programs\\python\\python312\\lib\\site-packages (from accelerate>=0.27.2->pysentimiento) (0.4.5)\n",
      "Requirement already satisfied: filelock in c:\\users\\hp\\appdata\\local\\programs\\python\\python312\\lib\\site-packages (from datasets>=2.10.1->pysentimiento) (3.16.0)\n",
      "Requirement already satisfied: pyarrow>=15.0.0 in c:\\users\\hp\\appdata\\local\\programs\\python\\python312\\lib\\site-packages (from datasets>=2.10.1->pysentimiento) (17.0.0)\n",
      "Collecting dill<0.3.9,>=0.3.0 (from datasets>=2.10.1->pysentimiento)\n",
      "  Downloading dill-0.3.8-py3-none-any.whl.metadata (10 kB)\n",
      "Requirement already satisfied: pandas in c:\\users\\hp\\appdata\\local\\programs\\python\\python312\\lib\\site-packages (from datasets>=2.10.1->pysentimiento) (2.2.1)\n",
      "Requirement already satisfied: requests>=2.32.2 in c:\\users\\hp\\appdata\\local\\programs\\python\\python312\\lib\\site-packages (from datasets>=2.10.1->pysentimiento) (2.32.2)\n",
      "Requirement already satisfied: tqdm>=4.66.3 in c:\\users\\hp\\appdata\\local\\programs\\python\\python312\\lib\\site-packages (from datasets>=2.10.1->pysentimiento) (4.66.4)\n",
      "Collecting xxhash (from datasets>=2.10.1->pysentimiento)\n",
      "  Downloading xxhash-3.5.0-cp312-cp312-win_amd64.whl.metadata (13 kB)\n",
      "Collecting multiprocess (from datasets>=2.10.1->pysentimiento)\n",
      "  Downloading multiprocess-0.70.16-py312-none-any.whl.metadata (7.2 kB)\n",
      "Collecting fsspec<=2024.6.1,>=2023.1.0 (from fsspec[http]<=2024.6.1,>=2023.1.0->datasets>=2.10.1->pysentimiento)\n",
      "  Downloading fsspec-2024.6.1-py3-none-any.whl.metadata (11 kB)\n",
      "Collecting aiohttp (from datasets>=2.10.1->pysentimiento)\n",
      "  Downloading aiohttp-3.10.5-cp312-cp312-win_amd64.whl.metadata (7.8 kB)\n",
      "Requirement already satisfied: typing-extensions>=4.7.0 in c:\\users\\hp\\appdata\\local\\programs\\python\\python312\\lib\\site-packages (from emoji>=1.6.1->pysentimiento) (4.12.0)\n",
      "Collecting spacy-legacy<3.1.0,>=3.0.11 (from spacy>=3.5.0->pysentimiento)\n",
      "  Downloading spacy_legacy-3.0.12-py2.py3-none-any.whl.metadata (2.8 kB)\n",
      "Collecting spacy-loggers<2.0.0,>=1.0.0 (from spacy>=3.5.0->pysentimiento)\n",
      "  Downloading spacy_loggers-1.0.5-py3-none-any.whl.metadata (23 kB)\n",
      "Collecting murmurhash<1.1.0,>=0.28.0 (from spacy>=3.5.0->pysentimiento)\n",
      "  Downloading murmurhash-1.0.10-cp312-cp312-win_amd64.whl.metadata (2.0 kB)\n",
      "Collecting cymem<2.1.0,>=2.0.2 (from spacy>=3.5.0->pysentimiento)\n",
      "  Downloading cymem-2.0.8-cp312-cp312-win_amd64.whl.metadata (8.6 kB)\n",
      "Collecting preshed<3.1.0,>=3.0.2 (from spacy>=3.5.0->pysentimiento)\n",
      "  Downloading preshed-3.0.9-cp312-cp312-win_amd64.whl.metadata (2.2 kB)\n",
      "Collecting thinc<8.3.0,>=8.2.2 (from spacy>=3.5.0->pysentimiento)\n",
      "  Downloading thinc-8.2.5-cp312-cp312-win_amd64.whl.metadata (15 kB)\n",
      "Collecting wasabi<1.2.0,>=0.9.1 (from spacy>=3.5.0->pysentimiento)\n",
      "  Downloading wasabi-1.1.3-py3-none-any.whl.metadata (28 kB)\n",
      "Collecting srsly<3.0.0,>=2.4.3 (from spacy>=3.5.0->pysentimiento)\n",
      "  Downloading srsly-2.4.8-cp312-cp312-win_amd64.whl.metadata (20 kB)\n",
      "Collecting catalogue<2.1.0,>=2.0.6 (from spacy>=3.5.0->pysentimiento)\n",
      "  Downloading catalogue-2.0.10-py3-none-any.whl.metadata (14 kB)\n",
      "Collecting weasel<0.5.0,>=0.1.0 (from spacy>=3.5.0->pysentimiento)\n",
      "  Downloading weasel-0.4.1-py3-none-any.whl.metadata (4.6 kB)\n",
      "Requirement already satisfied: typer<1.0.0,>=0.3.0 in c:\\users\\hp\\appdata\\local\\programs\\python\\python312\\lib\\site-packages (from spacy>=3.5.0->pysentimiento) (0.12.3)\n",
      "Requirement already satisfied: pydantic!=1.8,!=1.8.1,<3.0.0,>=1.7.4 in c:\\users\\hp\\appdata\\local\\programs\\python\\python312\\lib\\site-packages (from spacy>=3.5.0->pysentimiento) (2.7.1)\n",
      "Requirement already satisfied: jinja2 in c:\\users\\hp\\appdata\\local\\programs\\python\\python312\\lib\\site-packages (from spacy>=3.5.0->pysentimiento) (3.1.4)\n",
      "Requirement already satisfied: setuptools in c:\\users\\hp\\appdata\\local\\programs\\python\\python312\\lib\\site-packages (from spacy>=3.5.0->pysentimiento) (74.1.2)\n",
      "Collecting langcodes<4.0.0,>=3.2.0 (from spacy>=3.5.0->pysentimiento)\n",
      "  Downloading langcodes-3.4.0-py3-none-any.whl.metadata (29 kB)\n",
      "Requirement already satisfied: sympy in c:\\users\\hp\\appdata\\local\\programs\\python\\python312\\lib\\site-packages (from torch!=2.0.1,>=2.0.0->pysentimiento) (1.13.2)\n",
      "Requirement already satisfied: networkx in c:\\users\\hp\\appdata\\local\\programs\\python\\python312\\lib\\site-packages (from torch!=2.0.1,>=2.0.0->pysentimiento) (3.3)\n",
      "Requirement already satisfied: regex!=2019.12.17 in c:\\users\\hp\\appdata\\local\\programs\\python\\python312\\lib\\site-packages (from transformers>=4.13.0->pysentimiento) (2024.7.24)\n",
      "Requirement already satisfied: tokenizers<0.20,>=0.19 in c:\\users\\hp\\appdata\\local\\programs\\python\\python312\\lib\\site-packages (from transformers>=4.13.0->pysentimiento) (0.19.1)\n",
      "Collecting aiohappyeyeballs>=2.3.0 (from aiohttp->datasets>=2.10.1->pysentimiento)\n",
      "  Downloading aiohappyeyeballs-2.4.0-py3-none-any.whl.metadata (5.9 kB)\n",
      "Collecting aiosignal>=1.1.2 (from aiohttp->datasets>=2.10.1->pysentimiento)\n",
      "  Downloading aiosignal-1.3.1-py3-none-any.whl.metadata (4.0 kB)\n",
      "Requirement already satisfied: attrs>=17.3.0 in c:\\users\\hp\\appdata\\local\\programs\\python\\python312\\lib\\site-packages (from aiohttp->datasets>=2.10.1->pysentimiento) (23.2.0)\n",
      "Collecting frozenlist>=1.1.1 (from aiohttp->datasets>=2.10.1->pysentimiento)\n",
      "  Downloading frozenlist-1.4.1-cp312-cp312-win_amd64.whl.metadata (12 kB)\n",
      "Collecting multidict<7.0,>=4.5 (from aiohttp->datasets>=2.10.1->pysentimiento)\n",
      "  Downloading multidict-6.0.5-cp312-cp312-win_amd64.whl.metadata (4.3 kB)\n",
      "Collecting yarl<2.0,>=1.0 (from aiohttp->datasets>=2.10.1->pysentimiento)\n",
      "  Downloading yarl-1.10.0-cp312-cp312-win_amd64.whl.metadata (46 kB)\n",
      "Collecting language-data>=1.2 (from langcodes<4.0.0,>=3.2.0->spacy>=3.5.0->pysentimiento)\n",
      "  Downloading language_data-1.2.0-py3-none-any.whl.metadata (4.3 kB)\n",
      "Requirement already satisfied: annotated-types>=0.4.0 in c:\\users\\hp\\appdata\\local\\programs\\python\\python312\\lib\\site-packages (from pydantic!=1.8,!=1.8.1,<3.0.0,>=1.7.4->spacy>=3.5.0->pysentimiento) (0.7.0)\n",
      "Requirement already satisfied: pydantic-core==2.18.2 in c:\\users\\hp\\appdata\\local\\programs\\python\\python312\\lib\\site-packages (from pydantic!=1.8,!=1.8.1,<3.0.0,>=1.7.4->spacy>=3.5.0->pysentimiento) (2.18.2)\n",
      "Requirement already satisfied: charset-normalizer<4,>=2 in c:\\users\\hp\\appdata\\local\\programs\\python\\python312\\lib\\site-packages (from requests>=2.32.2->datasets>=2.10.1->pysentimiento) (3.3.2)\n",
      "Requirement already satisfied: idna<4,>=2.5 in c:\\users\\hp\\appdata\\local\\programs\\python\\python312\\lib\\site-packages (from requests>=2.32.2->datasets>=2.10.1->pysentimiento) (3.7)\n",
      "Requirement already satisfied: urllib3<3,>=1.21.1 in c:\\users\\hp\\appdata\\local\\programs\\python\\python312\\lib\\site-packages (from requests>=2.32.2->datasets>=2.10.1->pysentimiento) (2.2.1)\n",
      "Requirement already satisfied: certifi>=2017.4.17 in c:\\users\\hp\\appdata\\local\\programs\\python\\python312\\lib\\site-packages (from requests>=2.32.2->datasets>=2.10.1->pysentimiento) (2024.2.2)\n",
      "Collecting blis<0.8.0,>=0.7.8 (from thinc<8.3.0,>=8.2.2->spacy>=3.5.0->pysentimiento)\n",
      "  Downloading blis-0.7.11-cp312-cp312-win_amd64.whl.metadata (7.6 kB)\n",
      "Collecting confection<1.0.0,>=0.0.1 (from thinc<8.3.0,>=8.2.2->spacy>=3.5.0->pysentimiento)\n",
      "  Downloading confection-0.1.5-py3-none-any.whl.metadata (19 kB)\n",
      "Requirement already satisfied: colorama in c:\\users\\hp\\appdata\\local\\programs\\python\\python312\\lib\\site-packages (from tqdm>=4.66.3->datasets>=2.10.1->pysentimiento) (0.4.6)\n",
      "Requirement already satisfied: click>=8.0.0 in c:\\users\\hp\\appdata\\local\\programs\\python\\python312\\lib\\site-packages (from typer<1.0.0,>=0.3.0->spacy>=3.5.0->pysentimiento) (8.1.7)\n",
      "Requirement already satisfied: shellingham>=1.3.0 in c:\\users\\hp\\appdata\\local\\programs\\python\\python312\\lib\\site-packages (from typer<1.0.0,>=0.3.0->spacy>=3.5.0->pysentimiento) (1.5.4)\n",
      "Requirement already satisfied: rich>=10.11.0 in c:\\users\\hp\\appdata\\local\\programs\\python\\python312\\lib\\site-packages (from typer<1.0.0,>=0.3.0->spacy>=3.5.0->pysentimiento) (13.7.1)\n",
      "Collecting cloudpathlib<1.0.0,>=0.7.0 (from weasel<0.5.0,>=0.1.0->spacy>=3.5.0->pysentimiento)\n",
      "  Downloading cloudpathlib-0.19.0-py3-none-any.whl.metadata (14 kB)\n",
      "Collecting smart-open<8.0.0,>=5.2.1 (from weasel<0.5.0,>=0.1.0->spacy>=3.5.0->pysentimiento)\n",
      "  Downloading smart_open-7.0.4-py3-none-any.whl.metadata (23 kB)\n",
      "Requirement already satisfied: MarkupSafe>=2.0 in c:\\users\\hp\\appdata\\local\\programs\\python\\python312\\lib\\site-packages (from jinja2->spacy>=3.5.0->pysentimiento) (2.1.5)\n",
      "Requirement already satisfied: python-dateutil>=2.8.2 in c:\\users\\hp\\appdata\\local\\programs\\python\\python312\\lib\\site-packages (from pandas->datasets>=2.10.1->pysentimiento) (2.9.0.post0)\n",
      "Requirement already satisfied: pytz>=2020.1 in c:\\users\\hp\\appdata\\local\\programs\\python\\python312\\lib\\site-packages (from pandas->datasets>=2.10.1->pysentimiento) (2024.1)\n",
      "Requirement already satisfied: tzdata>=2022.7 in c:\\users\\hp\\appdata\\local\\programs\\python\\python312\\lib\\site-packages (from pandas->datasets>=2.10.1->pysentimiento) (2024.1)\n",
      "Requirement already satisfied: mpmath<1.4,>=1.1.0 in c:\\users\\hp\\appdata\\local\\programs\\python\\python312\\lib\\site-packages (from sympy->torch!=2.0.1,>=2.0.0->pysentimiento) (1.3.0)\n",
      "Collecting marisa-trie>=0.7.7 (from language-data>=1.2->langcodes<4.0.0,>=3.2.0->spacy>=3.5.0->pysentimiento)\n",
      "  Downloading marisa_trie-1.2.0-cp312-cp312-win_amd64.whl.metadata (9.0 kB)\n",
      "Requirement already satisfied: six>=1.5 in c:\\users\\hp\\appdata\\local\\programs\\python\\python312\\lib\\site-packages (from python-dateutil>=2.8.2->pandas->datasets>=2.10.1->pysentimiento) (1.16.0)\n",
      "Requirement already satisfied: markdown-it-py>=2.2.0 in c:\\users\\hp\\appdata\\local\\programs\\python\\python312\\lib\\site-packages (from rich>=10.11.0->typer<1.0.0,>=0.3.0->spacy>=3.5.0->pysentimiento) (3.0.0)\n",
      "Requirement already satisfied: pygments<3.0.0,>=2.13.0 in c:\\users\\hp\\appdata\\local\\programs\\python\\python312\\lib\\site-packages (from rich>=10.11.0->typer<1.0.0,>=0.3.0->spacy>=3.5.0->pysentimiento) (2.18.0)\n",
      "Requirement already satisfied: wrapt in c:\\users\\hp\\appdata\\local\\programs\\python\\python312\\lib\\site-packages (from smart-open<8.0.0,>=5.2.1->weasel<0.5.0,>=0.1.0->spacy>=3.5.0->pysentimiento) (1.16.0)\n",
      "Requirement already satisfied: mdurl~=0.1 in c:\\users\\hp\\appdata\\local\\programs\\python\\python312\\lib\\site-packages (from markdown-it-py>=2.2.0->rich>=10.11.0->typer<1.0.0,>=0.3.0->spacy>=3.5.0->pysentimiento) (0.1.2)\n",
      "Downloading pysentimiento-0.7.3-py3-none-any.whl (39 kB)\n",
      "Downloading accelerate-0.34.2-py3-none-any.whl (324 kB)\n",
      "Downloading datasets-2.21.0-py3-none-any.whl (527 kB)\n",
      "   ---------------------------------------- 0.0/527.3 kB ? eta -:--:--\n",
      "   ---------------------------------------- 0.0/527.3 kB ? eta -:--:--\n",
      "   ------------------- -------------------- 262.1/527.3 kB ? eta -:--:--\n",
      "   ------------------- -------------------- 262.1/527.3 kB ? eta -:--:--\n",
      "   -------------------------------------- 527.3/527.3 kB 847.0 kB/s eta 0:00:00\n",
      "Downloading emoji-2.12.1-py3-none-any.whl (431 kB)\n",
      "Downloading spacy-3.7.6-cp312-cp312-win_amd64.whl (11.7 MB)\n",
      "   ---------------------------------------- 0.0/11.7 MB ? eta -:--:--\n",
      "    --------------------------------------- 0.3/11.7 MB ? eta -:--:--\n",
      "   - -------------------------------------- 0.5/11.7 MB 1.7 MB/s eta 0:00:07\n",
      "   -- ------------------------------------- 0.8/11.7 MB 1.6 MB/s eta 0:00:07\n",
      "   --- ------------------------------------ 1.0/11.7 MB 1.6 MB/s eta 0:00:07\n",
      "   ----- ---------------------------------- 1.6/11.7 MB 1.6 MB/s eta 0:00:07\n",
      "   ------ --------------------------------- 1.8/11.7 MB 1.5 MB/s eta 0:00:07\n",
      "   ------- -------------------------------- 2.1/11.7 MB 1.6 MB/s eta 0:00:07\n",
      "   -------- ------------------------------- 2.4/11.7 MB 1.6 MB/s eta 0:00:06\n",
      "   --------- ------------------------------ 2.9/11.7 MB 1.6 MB/s eta 0:00:06\n",
      "   ---------- ----------------------------- 3.1/11.7 MB 1.6 MB/s eta 0:00:06\n",
      "   ----------- ---------------------------- 3.4/11.7 MB 1.6 MB/s eta 0:00:06\n",
      "   ------------- -------------------------- 3.9/11.7 MB 1.6 MB/s eta 0:00:05\n",
      "   -------------- ------------------------- 4.2/11.7 MB 1.6 MB/s eta 0:00:05\n",
      "   --------------- ------------------------ 4.5/11.7 MB 1.6 MB/s eta 0:00:05\n",
      "   ---------------- ----------------------- 4.7/11.7 MB 1.6 MB/s eta 0:00:05\n",
      "   ----------------- ---------------------- 5.0/11.7 MB 1.6 MB/s eta 0:00:05\n",
      "   ------------------ --------------------- 5.5/11.7 MB 1.6 MB/s eta 0:00:04\n",
      "   ------------------- -------------------- 5.8/11.7 MB 1.6 MB/s eta 0:00:04\n",
      "   --------------------- ------------------ 6.3/11.7 MB 1.6 MB/s eta 0:00:04\n",
      "   ---------------------- ----------------- 6.6/11.7 MB 1.6 MB/s eta 0:00:04\n",
      "   ----------------------- ---------------- 6.8/11.7 MB 1.6 MB/s eta 0:00:04\n",
      "   ------------------------- -------------- 7.3/11.7 MB 1.6 MB/s eta 0:00:03\n",
      "   ------------------------- -------------- 7.6/11.7 MB 1.6 MB/s eta 0:00:03\n",
      "   -------------------------- ------------- 7.9/11.7 MB 1.6 MB/s eta 0:00:03\n",
      "   --------------------------- ------------ 8.1/11.7 MB 1.6 MB/s eta 0:00:03\n",
      "   ----------------------------- ---------- 8.7/11.7 MB 1.6 MB/s eta 0:00:02\n",
      "   ------------------------------ --------- 8.9/11.7 MB 1.6 MB/s eta 0:00:02\n",
      "   ------------------------------- -------- 9.2/11.7 MB 1.6 MB/s eta 0:00:02\n",
      "   -------------------------------- ------- 9.4/11.7 MB 1.6 MB/s eta 0:00:02\n",
      "   ---------------------------------- ----- 10.0/11.7 MB 1.6 MB/s eta 0:00:02\n",
      "   ---------------------------------- ----- 10.2/11.7 MB 1.6 MB/s eta 0:00:01\n",
      "   ----------------------------------- ---- 10.5/11.7 MB 1.6 MB/s eta 0:00:01\n",
      "   ------------------------------------- -- 11.0/11.7 MB 1.6 MB/s eta 0:00:01\n",
      "   -------------------------------------- - 11.3/11.7 MB 1.6 MB/s eta 0:00:01\n",
      "   -------------------------------------- - 11.3/11.7 MB 1.6 MB/s eta 0:00:01\n",
      "   -------------------------------------- - 11.3/11.7 MB 1.6 MB/s eta 0:00:01\n",
      "   ---------------------------------------  11.5/11.7 MB 1.5 MB/s eta 0:00:01\n",
      "   ---------------------------------------  11.5/11.7 MB 1.5 MB/s eta 0:00:01\n",
      "   ---------------------------------------  11.5/11.7 MB 1.5 MB/s eta 0:00:01\n",
      "   ---------------------------------------  11.5/11.7 MB 1.5 MB/s eta 0:00:01\n",
      "   ---------------------------------------  11.5/11.7 MB 1.5 MB/s eta 0:00:01\n",
      "   ---------------------------------------  11.5/11.7 MB 1.5 MB/s eta 0:00:01\n",
      "   ---------------------------------------  11.5/11.7 MB 1.5 MB/s eta 0:00:01\n",
      "   ---------------------------------------  11.5/11.7 MB 1.5 MB/s eta 0:00:01\n",
      "   ---------------------------------------  11.5/11.7 MB 1.5 MB/s eta 0:00:01\n",
      "   ---------------------------------------  11.5/11.7 MB 1.5 MB/s eta 0:00:01\n",
      "   ---------------------------------------  11.5/11.7 MB 1.5 MB/s eta 0:00:01\n",
      "   ---------------------------------------  11.5/11.7 MB 1.5 MB/s eta 0:00:01\n",
      "   ---------------------------------------  11.5/11.7 MB 1.5 MB/s eta 0:00:01\n",
      "   ---------------------------------------  11.5/11.7 MB 1.5 MB/s eta 0:00:01\n",
      "   ---------------------------------------  11.5/11.7 MB 1.5 MB/s eta 0:00:01\n",
      "   ---------------------------------------  11.5/11.7 MB 1.5 MB/s eta 0:00:01\n",
      "   ---------------------------------------  11.5/11.7 MB 1.5 MB/s eta 0:00:01\n",
      "   ---------------------------------------  11.5/11.7 MB 1.5 MB/s eta 0:00:01\n",
      "   ---------------------------------------  11.5/11.7 MB 1.5 MB/s eta 0:00:01\n",
      "   ---------------------------------------  11.5/11.7 MB 1.5 MB/s eta 0:00:01\n",
      "   ---------------------------------------  11.5/11.7 MB 1.5 MB/s eta 0:00:01\n",
      "   ---------------------------------------  11.5/11.7 MB 1.5 MB/s eta 0:00:01\n",
      "   ---------------------------------------  11.5/11.7 MB 1.5 MB/s eta 0:00:01\n",
      "   ---------------------------------------  11.5/11.7 MB 1.5 MB/s eta 0:00:01\n",
      "   ---------------------------------------  11.5/11.7 MB 1.5 MB/s eta 0:00:01\n",
      "   ---------------------------------------  11.5/11.7 MB 1.5 MB/s eta 0:00:01\n",
      "   ---------------------------------------  11.5/11.7 MB 1.5 MB/s eta 0:00:01\n",
      "   ---------------------------------------  11.5/11.7 MB 1.5 MB/s eta 0:00:01\n",
      "   ---------------------------------------  11.5/11.7 MB 1.5 MB/s eta 0:00:01\n",
      "   ---------------------------------------  11.5/11.7 MB 1.5 MB/s eta 0:00:01\n",
      "   ---------------------------------------  11.5/11.7 MB 1.5 MB/s eta 0:00:01\n",
      "   ---------------------------------------  11.5/11.7 MB 1.5 MB/s eta 0:00:01\n",
      "   ---------------------------------------  11.5/11.7 MB 1.5 MB/s eta 0:00:01\n",
      "   ---------------------------------------  11.5/11.7 MB 1.5 MB/s eta 0:00:01\n",
      "   ---------------------------------------  11.5/11.7 MB 1.5 MB/s eta 0:00:01\n",
      "   ---------------------------------------  11.5/11.7 MB 1.5 MB/s eta 0:00:01\n",
      "   ---------------------------------------  11.5/11.7 MB 1.5 MB/s eta 0:00:01\n",
      "   ---------------------------------------  11.5/11.7 MB 1.5 MB/s eta 0:00:01\n",
      "   ---------------------------------------  11.5/11.7 MB 1.5 MB/s eta 0:00:01\n",
      "   ---------------------------------------  11.5/11.7 MB 1.5 MB/s eta 0:00:01\n",
      "   ---------------------------------------  11.5/11.7 MB 1.5 MB/s eta 0:00:01\n",
      "   ---------------------------------------  11.5/11.7 MB 1.5 MB/s eta 0:00:01\n",
      "   ---------------------------------------  11.5/11.7 MB 1.5 MB/s eta 0:00:01\n",
      "   ---------------------------------------  11.5/11.7 MB 1.5 MB/s eta 0:00:01\n",
      "   ---------------------------------------  11.5/11.7 MB 1.5 MB/s eta 0:00:01\n",
      "   ---------------------------------------  11.5/11.7 MB 1.5 MB/s eta 0:00:01\n",
      "   ---------------------------------------  11.5/11.7 MB 1.5 MB/s eta 0:00:01\n",
      "   ---------------------------------------  11.5/11.7 MB 1.5 MB/s eta 0:00:01\n",
      "   ---------------------------------------  11.5/11.7 MB 1.5 MB/s eta 0:00:01\n",
      "   ---------------------------------------  11.5/11.7 MB 1.5 MB/s eta 0:00:01\n",
      "   ---------------------------------------  11.5/11.7 MB 1.5 MB/s eta 0:00:01\n",
      "   ---------------------------------------  11.5/11.7 MB 1.5 MB/s eta 0:00:01\n",
      "   ---------------------------------------  11.5/11.7 MB 1.5 MB/s eta 0:00:01\n",
      "   ---------------------------------------  11.5/11.7 MB 1.5 MB/s eta 0:00:01\n",
      "   ---------------------------------------  11.5/11.7 MB 1.5 MB/s eta 0:00:01\n",
      "   ---------------------------------------  11.5/11.7 MB 1.5 MB/s eta 0:00:01\n",
      "   ---------------------------------------  11.5/11.7 MB 1.5 MB/s eta 0:00:01\n",
      "   ---------------------------------------  11.5/11.7 MB 1.5 MB/s eta 0:00:01\n",
      "   ---------------------------------------  11.5/11.7 MB 1.5 MB/s eta 0:00:01\n",
      "   ---------------------------------------  11.5/11.7 MB 1.5 MB/s eta 0:00:01\n",
      "   ---------------------------------------  11.5/11.7 MB 1.5 MB/s eta 0:00:01\n",
      "   ---------------------------------------  11.5/11.7 MB 1.5 MB/s eta 0:00:01\n",
      "   ---------------------------------------- 11.7/11.7 MB 555.7 kB/s eta 0:00:00\n",
      "Downloading catalogue-2.0.10-py3-none-any.whl (17 kB)\n",
      "Downloading cymem-2.0.8-cp312-cp312-win_amd64.whl (39 kB)\n",
      "Downloading dill-0.3.8-py3-none-any.whl (116 kB)\n",
      "Downloading fsspec-2024.6.1-py3-none-any.whl (177 kB)\n",
      "Downloading aiohttp-3.10.5-cp312-cp312-win_amd64.whl (377 kB)\n",
      "Downloading langcodes-3.4.0-py3-none-any.whl (182 kB)\n",
      "Downloading murmurhash-1.0.10-cp312-cp312-win_amd64.whl (25 kB)\n",
      "Downloading preshed-3.0.9-cp312-cp312-win_amd64.whl (122 kB)\n",
      "Downloading spacy_legacy-3.0.12-py2.py3-none-any.whl (29 kB)\n",
      "Downloading spacy_loggers-1.0.5-py3-none-any.whl (22 kB)\n",
      "Downloading srsly-2.4.8-cp312-cp312-win_amd64.whl (478 kB)\n",
      "Downloading thinc-8.2.5-cp312-cp312-win_amd64.whl (1.4 MB)\n",
      "   ---------------------------------------- 0.0/1.4 MB ? eta -:--:--\n",
      "   ---------------------------------------- 0.0/1.4 MB ? eta -:--:--\n",
      "   ------- -------------------------------- 0.3/1.4 MB ? eta -:--:--\n",
      "   ------- -------------------------------- 0.3/1.4 MB ? eta -:--:--\n",
      "   -------------- ------------------------- 0.5/1.4 MB 621.2 kB/s eta 0:00:02\n",
      "   -------------- ------------------------- 0.5/1.4 MB 621.2 kB/s eta 0:00:02\n",
      "   --------------------- ------------------ 0.8/1.4 MB 644.9 kB/s eta 0:00:02\n",
      "   --------------------- ------------------ 0.8/1.4 MB 644.9 kB/s eta 0:00:02\n",
      "   ---------------------------- ----------- 1.0/1.4 MB 699.0 kB/s eta 0:00:01\n",
      "   ------------------------------------ --- 1.3/1.4 MB 729.2 kB/s eta 0:00:01\n",
      "   ---------------------------------------- 1.4/1.4 MB 729.7 kB/s eta 0:00:00\n",
      "Downloading wasabi-1.1.3-py3-none-any.whl (27 kB)\n",
      "Downloading weasel-0.4.1-py3-none-any.whl (50 kB)\n",
      "Downloading multiprocess-0.70.16-py312-none-any.whl (146 kB)\n",
      "Downloading xxhash-3.5.0-cp312-cp312-win_amd64.whl (30 kB)\n",
      "Downloading aiohappyeyeballs-2.4.0-py3-none-any.whl (12 kB)\n",
      "Downloading aiosignal-1.3.1-py3-none-any.whl (7.6 kB)\n",
      "Downloading blis-0.7.11-cp312-cp312-win_amd64.whl (6.6 MB)\n",
      "   ---------------------------------------- 0.0/6.6 MB ? eta -:--:--\n",
      "   ---------------------------------------- 0.0/6.6 MB ? eta -:--:--\n",
      "   - -------------------------------------- 0.3/6.6 MB ? eta -:--:--\n",
      "   - -------------------------------------- 0.3/6.6 MB ? eta -:--:--\n",
      "   --- ------------------------------------ 0.5/6.6 MB 885.6 kB/s eta 0:00:07\n",
      "   ---- ----------------------------------- 0.8/6.6 MB 907.1 kB/s eta 0:00:07\n",
      "   ------ --------------------------------- 1.0/6.6 MB 898.8 kB/s eta 0:00:07\n",
      "   ------ --------------------------------- 1.0/6.6 MB 898.8 kB/s eta 0:00:07\n",
      "   ------- -------------------------------- 1.3/6.6 MB 883.4 kB/s eta 0:00:07\n",
      "   --------- ------------------------------ 1.6/6.6 MB 902.1 kB/s eta 0:00:06\n",
      "   ----------- ---------------------------- 1.8/6.6 MB 941.3 kB/s eta 0:00:06\n",
      "   ------------ --------------------------- 2.1/6.6 MB 947.3 kB/s eta 0:00:05\n",
      "   ------------ --------------------------- 2.1/6.6 MB 947.3 kB/s eta 0:00:05\n",
      "   -------------- ------------------------- 2.4/6.6 MB 952.0 kB/s eta 0:00:05\n",
      "   --------------- ------------------------ 2.6/6.6 MB 956.0 kB/s eta 0:00:05\n",
      "   --------------- ------------------------ 2.6/6.6 MB 956.0 kB/s eta 0:00:05\n",
      "   --------------- ------------------------ 2.6/6.6 MB 956.0 kB/s eta 0:00:05\n",
      "   ----------------- ---------------------- 2.9/6.6 MB 856.1 kB/s eta 0:00:05\n",
      "   ------------------ --------------------- 3.1/6.6 MB 866.5 kB/s eta 0:00:05\n",
      "   -------------------- ------------------- 3.4/6.6 MB 883.1 kB/s eta 0:00:04\n",
      "   ---------------------- ----------------- 3.7/6.6 MB 894.0 kB/s eta 0:00:04\n",
      "   ----------------------- ---------------- 3.9/6.6 MB 917.5 kB/s eta 0:00:03\n",
      "   ------------------------- -------------- 4.2/6.6 MB 928.7 kB/s eta 0:00:03\n",
      "   -------------------------- ------------- 4.5/6.6 MB 955.4 kB/s eta 0:00:03\n",
      "   ---------------------------- ----------- 4.7/6.6 MB 976.9 kB/s eta 0:00:02\n",
      "   ------------------------------ --------- 5.0/6.6 MB 990.3 kB/s eta 0:00:02\n",
      "   ------------------------------- -------- 5.2/6.6 MB 1.0 MB/s eta 0:00:02\n",
      "   ---------------------------------- ----- 5.8/6.6 MB 1.0 MB/s eta 0:00:01\n",
      "   ---------------------------------- ----- 5.8/6.6 MB 1.0 MB/s eta 0:00:01\n",
      "   ------------------------------------ --- 6.0/6.6 MB 1.0 MB/s eta 0:00:01\n",
      "   ------------------------------------- -- 6.3/6.6 MB 1.0 MB/s eta 0:00:01\n",
      "   ---------------------------------------- 6.6/6.6 MB 1.0 MB/s eta 0:00:00\n",
      "Downloading cloudpathlib-0.19.0-py3-none-any.whl (49 kB)\n",
      "Downloading confection-0.1.5-py3-none-any.whl (35 kB)\n",
      "Downloading frozenlist-1.4.1-cp312-cp312-win_amd64.whl (50 kB)\n",
      "Downloading language_data-1.2.0-py3-none-any.whl (5.4 MB)\n",
      "   ---------------------------------------- 0.0/5.4 MB ? eta -:--:--\n",
      "   ---------------------------------------- 0.0/5.4 MB ? eta -:--:--\n",
      "   - -------------------------------------- 0.3/5.4 MB ? eta -:--:--\n",
      "   --- ------------------------------------ 0.5/5.4 MB 1.0 MB/s eta 0:00:05\n",
      "   ----- ---------------------------------- 0.8/5.4 MB 1.2 MB/s eta 0:00:04\n",
      "   ------- -------------------------------- 1.0/5.4 MB 1.2 MB/s eta 0:00:04\n",
      "   --------- ------------------------------ 1.3/5.4 MB 1.3 MB/s eta 0:00:04\n",
      "   ----------- ---------------------------- 1.6/5.4 MB 1.3 MB/s eta 0:00:03\n",
      "   --------------- ------------------------ 2.1/5.4 MB 1.3 MB/s eta 0:00:03\n",
      "   ----------------- ---------------------- 2.4/5.4 MB 1.4 MB/s eta 0:00:03\n",
      "   --------------------- ------------------ 2.9/5.4 MB 1.4 MB/s eta 0:00:02\n",
      "   ----------------------- ---------------- 3.1/5.4 MB 1.4 MB/s eta 0:00:02\n",
      "   ------------------------- -------------- 3.4/5.4 MB 1.4 MB/s eta 0:00:02\n",
      "   --------------------------- ------------ 3.7/5.4 MB 1.4 MB/s eta 0:00:02\n",
      "   ----------------------------- ---------- 3.9/5.4 MB 1.4 MB/s eta 0:00:02\n",
      "   ------------------------------- -------- 4.2/5.4 MB 1.4 MB/s eta 0:00:01\n",
      "   --------------------------------- ------ 4.5/5.4 MB 1.4 MB/s eta 0:00:01\n",
      "   ----------------------------------- ---- 4.7/5.4 MB 1.4 MB/s eta 0:00:01\n",
      "   ------------------------------------ --- 5.0/5.4 MB 1.4 MB/s eta 0:00:01\n",
      "   ---------------------------------------- 5.4/5.4 MB 1.4 MB/s eta 0:00:00\n",
      "Downloading multidict-6.0.5-cp312-cp312-win_amd64.whl (27 kB)\n",
      "Downloading smart_open-7.0.4-py3-none-any.whl (61 kB)\n",
      "Downloading yarl-1.10.0-cp312-cp312-win_amd64.whl (110 kB)\n",
      "Downloading marisa_trie-1.2.0-cp312-cp312-win_amd64.whl (151 kB)\n",
      "Installing collected packages: cymem, xxhash, wasabi, spacy-loggers, spacy-legacy, smart-open, murmurhash, multidict, marisa-trie, fsspec, frozenlist, emoji, dill, cloudpathlib, catalogue, blis, aiohappyeyeballs, yarl, srsly, preshed, multiprocess, language-data, aiosignal, langcodes, confection, aiohttp, accelerate, weasel, thinc, spacy, datasets, pysentimiento\n",
      "  Attempting uninstall: fsspec\n",
      "    Found existing installation: fsspec 2024.9.0\n",
      "    Uninstalling fsspec-2024.9.0:\n",
      "      Successfully uninstalled fsspec-2024.9.0\n",
      "Successfully installed accelerate-0.34.2 aiohappyeyeballs-2.4.0 aiohttp-3.10.5 aiosignal-1.3.1 blis-0.7.11 catalogue-2.0.10 cloudpathlib-0.19.0 confection-0.1.5 cymem-2.0.8 datasets-2.21.0 dill-0.3.8 emoji-2.12.1 frozenlist-1.4.1 fsspec-2024.6.1 langcodes-3.4.0 language-data-1.2.0 marisa-trie-1.2.0 multidict-6.0.5 multiprocess-0.70.16 murmurhash-1.0.10 preshed-3.0.9 pysentimiento-0.7.3 smart-open-7.0.4 spacy-3.7.6 spacy-legacy-3.0.12 spacy-loggers-1.0.5 srsly-2.4.8 thinc-8.2.5 wasabi-1.1.3 weasel-0.4.1 xxhash-3.5.0 yarl-1.10.0\n"
     ]
    }
   ],
   "source": [
    " !pip install pysentimiento"
   ]
  },
  {
   "cell_type": "code",
   "execution_count": 2,
   "id": "fe6363bb-f156-45ef-9853-83f7a8b949fd",
   "metadata": {},
   "outputs": [
    {
     "name": "stdout",
     "output_type": "stream",
     "text": [
      "WARNING:tensorflow:From C:\\Users\\HP\\AppData\\Local\\Programs\\Python\\Python312\\Lib\\site-packages\\tf_keras\\src\\losses.py:2976: The name tf.losses.sparse_softmax_cross_entropy is deprecated. Please use tf.compat.v1.losses.sparse_softmax_cross_entropy instead.\n",
      "\n"
     ]
    }
   ],
   "source": [
    "from pysentimiento import create_analyzer"
   ]
  },
  {
   "cell_type": "code",
   "execution_count": 3,
   "id": "8a2a2a60-9628-4dd3-93d4-e69d21284dc0",
   "metadata": {},
   "outputs": [
    {
     "data": {
      "application/vnd.jupyter.widget-view+json": {
       "model_id": "2dacde167ed44480a7298131b39a0c2b",
       "version_major": 2,
       "version_minor": 0
      },
      "text/plain": [
       "config.json:   0%|          | 0.00/999 [00:00<?, ?B/s]"
      ]
     },
     "metadata": {},
     "output_type": "display_data"
    },
    {
     "name": "stderr",
     "output_type": "stream",
     "text": [
      "C:\\Users\\HP\\AppData\\Local\\Programs\\Python\\Python312\\Lib\\site-packages\\huggingface_hub\\file_download.py:159: UserWarning: `huggingface_hub` cache-system uses symlinks by default to efficiently store duplicated files but your machine does not support them in C:\\Users\\HP\\.cache\\huggingface\\hub\\models--finiteautomata--bertweet-base-emotion-analysis. Caching files will still work but in a degraded version that might require more space on your disk. This warning can be disabled by setting the `HF_HUB_DISABLE_SYMLINKS_WARNING` environment variable. For more details, see https://huggingface.co/docs/huggingface_hub/how-to-cache#limitations.\n",
      "To support symlinks on Windows, you either need to activate Developer Mode or to run Python as an administrator. In order to see activate developer mode, see this article: https://docs.microsoft.com/en-us/windows/apps/get-started/enable-your-device-for-development\n",
      "  warnings.warn(message)\n"
     ]
    },
    {
     "data": {
      "application/vnd.jupyter.widget-view+json": {
       "model_id": "e2faa1a1242e42c9826100deb9ff45df",
       "version_major": 2,
       "version_minor": 0
      },
      "text/plain": [
       "model.safetensors:   0%|          | 0.00/540M [00:00<?, ?B/s]"
      ]
     },
     "metadata": {},
     "output_type": "display_data"
    },
    {
     "data": {
      "application/vnd.jupyter.widget-view+json": {
       "model_id": "4f9796d807884c0ebbe4c742c34823cb",
       "version_major": 2,
       "version_minor": 0
      },
      "text/plain": [
       "tokenizer_config.json:   0%|          | 0.00/295 [00:00<?, ?B/s]"
      ]
     },
     "metadata": {},
     "output_type": "display_data"
    },
    {
     "data": {
      "application/vnd.jupyter.widget-view+json": {
       "model_id": "999d873327d5437bae6a8d175e18bd71",
       "version_major": 2,
       "version_minor": 0
      },
      "text/plain": [
       "vocab.txt:   0%|          | 0.00/843k [00:00<?, ?B/s]"
      ]
     },
     "metadata": {},
     "output_type": "display_data"
    },
    {
     "data": {
      "application/vnd.jupyter.widget-view+json": {
       "model_id": "4117816a92b54967a22e77848b9985c8",
       "version_major": 2,
       "version_minor": 0
      },
      "text/plain": [
       "bpe.codes:   0%|          | 0.00/1.08M [00:00<?, ?B/s]"
      ]
     },
     "metadata": {},
     "output_type": "display_data"
    },
    {
     "data": {
      "application/vnd.jupyter.widget-view+json": {
       "model_id": "9dc8a9081d1940d4bc80560d46619380",
       "version_major": 2,
       "version_minor": 0
      },
      "text/plain": [
       "added_tokens.json:   0%|          | 0.00/17.0 [00:00<?, ?B/s]"
      ]
     },
     "metadata": {},
     "output_type": "display_data"
    },
    {
     "data": {
      "application/vnd.jupyter.widget-view+json": {
       "model_id": "72e5fd60a32545f0a192f5da67fb6841",
       "version_major": 2,
       "version_minor": 0
      },
      "text/plain": [
       "special_tokens_map.json:   0%|          | 0.00/150 [00:00<?, ?B/s]"
      ]
     },
     "metadata": {},
     "output_type": "display_data"
    },
    {
     "name": "stderr",
     "output_type": "stream",
     "text": [
      "C:\\Users\\HP\\AppData\\Local\\Programs\\Python\\Python312\\Lib\\site-packages\\transformers\\tokenization_utils_base.py:1601: FutureWarning: `clean_up_tokenization_spaces` was not set. It will be set to `True` by default. This behavior will be depracted in transformers v4.45, and will be then set to `False` by default. For more details check this issue: https://github.com/huggingface/transformers/issues/31884\n",
      "  warnings.warn(\n"
     ]
    },
    {
     "data": {
      "text/plain": [
       "'anger'"
      ]
     },
     "execution_count": 3,
     "metadata": {},
     "output_type": "execute_result"
    }
   ],
   "source": [
    "emotion = create_analyzer(task='emotion',lang='en')\n",
    "result = emotion.predict(\"get out of my sight\")\n",
    "result.output"
   ]
  },
  {
   "cell_type": "code",
   "execution_count": 4,
   "id": "b7a24d01-fd91-4826-9777-4390a649d28b",
   "metadata": {},
   "outputs": [
    {
     "data": {
      "text/plain": [
       "'fear'"
      ]
     },
     "execution_count": 4,
     "metadata": {},
     "output_type": "execute_result"
    }
   ],
   "source": [
    "def emotion_detection(text):\n",
    "  emotion = create_analyzer(task='emotion',lang='en')\n",
    "  result = emotion.predict(text)\n",
    "  return result.output\n",
    "emotion_detection(\"I am scared of learning mathematcis\")"
   ]
  },
  {
   "cell_type": "markdown",
   "id": "fc71db31-92fe-447b-a261-f8b41d2ff878",
   "metadata": {},
   "source": [
    "*HATE SPEECH DETECTION *"
   ]
  },
  {
   "cell_type": "code",
   "execution_count": 5,
   "id": "ee903255-05cf-4975-8aa8-97d73b11cc73",
   "metadata": {},
   "outputs": [
    {
     "data": {
      "application/vnd.jupyter.widget-view+json": {
       "model_id": "dd5c6437ed6a4b7a92f49eb7abd021be",
       "version_major": 2,
       "version_minor": 0
      },
      "text/plain": [
       "config.json:   0%|          | 0.00/980 [00:00<?, ?B/s]"
      ]
     },
     "metadata": {},
     "output_type": "display_data"
    },
    {
     "name": "stderr",
     "output_type": "stream",
     "text": [
      "C:\\Users\\HP\\AppData\\Local\\Programs\\Python\\Python312\\Lib\\site-packages\\huggingface_hub\\file_download.py:159: UserWarning: `huggingface_hub` cache-system uses symlinks by default to efficiently store duplicated files but your machine does not support them in C:\\Users\\HP\\.cache\\huggingface\\hub\\models--pysentimiento--bertweet-hate-speech. Caching files will still work but in a degraded version that might require more space on your disk. This warning can be disabled by setting the `HF_HUB_DISABLE_SYMLINKS_WARNING` environment variable. For more details, see https://huggingface.co/docs/huggingface_hub/how-to-cache#limitations.\n",
      "To support symlinks on Windows, you either need to activate Developer Mode or to run Python as an administrator. In order to see activate developer mode, see this article: https://docs.microsoft.com/en-us/windows/apps/get-started/enable-your-device-for-development\n",
      "  warnings.warn(message)\n"
     ]
    },
    {
     "data": {
      "application/vnd.jupyter.widget-view+json": {
       "model_id": "29e206ef23a747568f8c4ad9cde2f8aa",
       "version_major": 2,
       "version_minor": 0
      },
      "text/plain": [
       "pytorch_model.bin:   0%|          | 0.00/540M [00:00<?, ?B/s]"
      ]
     },
     "metadata": {},
     "output_type": "display_data"
    },
    {
     "data": {
      "application/vnd.jupyter.widget-view+json": {
       "model_id": "e9637858c839409b868b7f947090ce95",
       "version_major": 2,
       "version_minor": 0
      },
      "text/plain": [
       "tokenizer_config.json:   0%|          | 0.00/338 [00:00<?, ?B/s]"
      ]
     },
     "metadata": {},
     "output_type": "display_data"
    },
    {
     "data": {
      "application/vnd.jupyter.widget-view+json": {
       "model_id": "ef6f004711164d7ca34595f35d4981ec",
       "version_major": 2,
       "version_minor": 0
      },
      "text/plain": [
       "vocab.txt:   0%|          | 0.00/843k [00:00<?, ?B/s]"
      ]
     },
     "metadata": {},
     "output_type": "display_data"
    },
    {
     "data": {
      "application/vnd.jupyter.widget-view+json": {
       "model_id": "c7f440c7b229467d900849a5c6a29e41",
       "version_major": 2,
       "version_minor": 0
      },
      "text/plain": [
       "bpe.codes:   0%|          | 0.00/1.08M [00:00<?, ?B/s]"
      ]
     },
     "metadata": {},
     "output_type": "display_data"
    },
    {
     "data": {
      "application/vnd.jupyter.widget-view+json": {
       "model_id": "9c6f148ae80844be8ef795026524b6ae",
       "version_major": 2,
       "version_minor": 0
      },
      "text/plain": [
       "added_tokens.json:   0%|          | 0.00/22.0 [00:00<?, ?B/s]"
      ]
     },
     "metadata": {},
     "output_type": "display_data"
    },
    {
     "data": {
      "application/vnd.jupyter.widget-view+json": {
       "model_id": "aa50d39718d54799a8612c49b5843a00",
       "version_major": 2,
       "version_minor": 0
      },
      "text/plain": [
       "special_tokens_map.json:   0%|          | 0.00/167 [00:00<?, ?B/s]"
      ]
     },
     "metadata": {},
     "output_type": "display_data"
    },
    {
     "data": {
      "text/plain": [
       "[]"
      ]
     },
     "execution_count": 5,
     "metadata": {},
     "output_type": "execute_result"
    }
   ],
   "source": [
    "hatespeech = create_analyzer(task='hate_speech', lang='en')\n",
    "result = hatespeech.predict(\"I hate eating apples. that's why i don't want to sit with appple seller\")\n",
    "# next(iter(result.probas,None))\n",
    "# next(iter(result.probas.items()),None)\n",
    "result.output"
   ]
  },
  {
   "cell_type": "code",
   "execution_count": 6,
   "id": "f1f9b8ae-2138-4730-9744-88d89143e699",
   "metadata": {},
   "outputs": [
    {
     "data": {
      "text/plain": [
       "('hateful', 0.030125711113214493)"
      ]
     },
     "execution_count": 6,
     "metadata": {},
     "output_type": "execute_result"
    }
   ],
   "source": [
    "def hatespeech_detection(text):\n",
    "  hatespeech = create_analyzer(task='hate_speech', lang='en')\n",
    "  result = hatespeech.predict(text)\n",
    "  return next(iter(result.probas.items()),None)\n",
    "hatespeech_detection(\"I hate eating apples. that's why i don't want to sit with appple seller\")"
   ]
  },
  {
   "cell_type": "markdown",
   "id": "50ccd1c6-814a-4119-be92-7b4a950c42ac",
   "metadata": {},
   "source": [
    "*predictive System*"
   ]
  },
  {
   "cell_type": "code",
   "execution_count": 7,
   "id": "c4e49332-5d39-4ee6-ba56-339b111c626a",
   "metadata": {},
   "outputs": [],
   "source": [
    "text = \"\"\"I woke up this morning feeling incredibly happy and grateful for the beautiful weather outside.\n",
    " The sun was shining, birds were singing, and there was a gentle breeze in the air. It felt like the\n",
    " perfect day to go for a long walk in the park.\"\"\""
   ]
  },
  {
   "cell_type": "code",
   "execution_count": 8,
   "id": "52d2493e-1d87-4cfc-b221-c23348764973",
   "metadata": {},
   "outputs": [
    {
     "name": "stdout",
     "output_type": "stream",
     "text": [
      "Emotion : joy\n",
      "Speech : ('hateful', 0.015868615359067917)\n"
     ]
    }
   ],
   "source": [
    "emo = emotion_detection(text)\n",
    "hate = hatespeech_detection(text)\n",
    "\n",
    "print(\"Emotion :\", emo)\n",
    "print(\"Speech :\", hate)"
   ]
  },
  {
   "cell_type": "code",
   "execution_count": 9,
   "id": "33676f87-5c5b-421b-be7b-e91eff0d3306",
   "metadata": {},
   "outputs": [],
   "source": [
    "# Example 2:\n",
    "text = \"\"\"In the evening, I decided to unwind by watching a comedy show. The hilarious jokes and witty banter lifted my spirits, and I found myself laughing uncontrollably.\n",
    " Laughter truly is the best medicine, and it was the perfect way to end the day on a positive note.\n",
    "\"\"\""
   ]
  },
  {
   "cell_type": "code",
   "execution_count": 10,
   "id": "686c3538-c8f6-423d-a07a-9124b79a1713",
   "metadata": {},
   "outputs": [
    {
     "name": "stdout",
     "output_type": "stream",
     "text": [
      "Emotion : joy\n",
      "Speech : ('hateful', 0.014117322862148285)\n"
     ]
    }
   ],
   "source": [
    "emo = emotion_detection(text)\n",
    "hate = hatespeech_detection(text)\n",
    "\n",
    "print(\"Emotion :\", emo)\n",
    "print(\"Speech :\", hate)"
   ]
  },
  {
   "cell_type": "code",
   "execution_count": null,
   "id": "a040101c-5581-4294-bfa4-6d1c36c91470",
   "metadata": {},
   "outputs": [],
   "source": []
  }
 ],
 "metadata": {
  "kernelspec": {
   "display_name": "Python 3 (ipykernel)",
   "language": "python",
   "name": "python3"
  },
  "language_info": {
   "codemirror_mode": {
    "name": "ipython",
    "version": 3
   },
   "file_extension": ".py",
   "mimetype": "text/x-python",
   "name": "python",
   "nbconvert_exporter": "python",
   "pygments_lexer": "ipython3",
   "version": "3.12.2"
  }
 },
 "nbformat": 4,
 "nbformat_minor": 5
}
